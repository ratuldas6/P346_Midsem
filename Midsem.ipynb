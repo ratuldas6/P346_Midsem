{
 "cells": [
  {
   "cell_type": "code",
   "execution_count": 1,
   "id": "5d056996",
   "metadata": {},
   "outputs": [],
   "source": [
    "import mylibrary\n",
    "import math\n",
    "from matplotlib import pyplot as plt"
   ]
  },
  {
   "cell_type": "markdown",
   "id": "db771287",
   "metadata": {},
   "source": [
    "Question 1\n"
   ]
  },
  {
   "cell_type": "code",
   "execution_count": 2,
   "id": "fed37765",
   "metadata": {},
   "outputs": [
    {
     "name": "stdout",
     "output_type": "stream",
     "text": [
      "Bracket containing the root of the function is:(2, 5)\n"
     ]
    }
   ],
   "source": [
    "#function given: (x-5)e^x + 5\n",
    "f1 = lambda x: (x-5)*math.exp(x) + 5\n",
    "\n",
    "#fetching constants\n",
    "h = 6.626*10**(-34)\n",
    "k = 1.381*10**(-23)\n",
    "c = 3*10**(8) \n",
    "\n",
    "prec = 10*(-4) #precision value for finding root\n",
    "\n",
    "#Name - Ratul Das\n",
    "#Roll number - 1911128\n",
    "\n",
    "#picking a guess interval\n",
    "lower_lim = 2\n",
    "upper_lim = 5\n",
    "\n",
    "#checking bracket for root\n",
    "brac = mylibrary.bracket(f1,lower_lim,upper_lim)\n",
    "print(\"Bracket containing the root of the function is:\" + str(brac))"
   ]
  },
  {
   "cell_type": "code",
   "execution_count": 3,
   "id": "e854d777",
   "metadata": {},
   "outputs": [
    {
     "name": "stdout",
     "output_type": "stream",
     "text": [
      "The root for the function within the specified interval is = 4.965113134432163\n"
     ]
    }
   ],
   "source": [
    "#calling Newton-Raphson function to find root\n",
    "r1, i1, err1 = mylibrary.newtonraphson(f1,5,prec) #putting the upper bound guess as 5\n",
    "print(\"The root for the function within the specified interval is = \" + str(r1))"
   ]
  },
  {
   "cell_type": "code",
   "execution_count": 4,
   "id": "faa286d7",
   "metadata": {},
   "outputs": [
    {
     "name": "stdout",
     "output_type": "stream",
     "text": [
      "From the given expression in the question, we see b = (h*c)/(x*k)\n",
      "where x is the value of the root found\n",
      "\n",
      "Therefore, we get Wein's constant as b = 0.0028990109714324853\n"
     ]
    }
   ],
   "source": [
    "print(\"From the given expression in the question, we see b = (h*c)/(x*k)\")\n",
    "print(\"where x is the value of the root found\")\n",
    "print()\n",
    "print(\"Therefore, we get Wein's constant as b = \" + str((h*c)/(r1*k)))"
   ]
  },
  {
   "cell_type": "markdown",
   "id": "7dbba874",
   "metadata": {},
   "source": [
    "Question 2\n"
   ]
  },
  {
   "cell_type": "code",
   "execution_count": 5,
   "id": "4828af7a",
   "metadata": {},
   "outputs": [
    {
     "name": "stdout",
     "output_type": "stream",
     "text": [
      "The given matrix is: \n",
      "[0, 0, 0, 2]\n",
      "[0, 0, 3, 0]\n",
      "[0, 4, 0, 0]\n",
      "[5, 0, 0, 0]\n"
     ]
    }
   ],
   "source": [
    "matrix = [[0,0,0,2],[0,0,3,0],[0,4,0,0],[5,0,0,0]]\n",
    "print(\"The given matrix is: \")\n",
    "mylibrary.displayMatrix(matrix)"
   ]
  },
  {
   "cell_type": "code",
   "execution_count": 6,
   "id": "7e58e51e",
   "metadata": {},
   "outputs": [
    {
     "name": "stdout",
     "output_type": "stream",
     "text": [
      "Inverse of the matrix is: \n",
      "[0.0, 0.0, 0.0, 0.2]\n",
      "[0.0, 0.0, 0.25, 0.0]\n",
      "[0.0, 0.3333333333333333, 0.0, 0.0]\n",
      "[0.5, 0.0, 0.0, 0.0]\n"
     ]
    }
   ],
   "source": [
    "print(\"Inverse of the matrix is: \")\n",
    "#Name: Ratul Das, Roll number: 1911128\n",
    "matrix_inv_aug = mylibrary.inverseMatrix(matrix)\n",
    "matrix_inv = mylibrary.storeInvMatrix(matrix)\n",
    "mylibrary.displayMatrix(matrix_inv)"
   ]
  },
  {
   "cell_type": "code",
   "execution_count": 7,
   "id": "1f45a448",
   "metadata": {},
   "outputs": [
    {
     "name": "stdout",
     "output_type": "stream",
     "text": [
      "Product of the matrix and its inverse is: \n",
      "[1.0, 0.0, 0.0, 0.0]\n",
      "[0.0, 1.0, 0.0, 0.0]\n",
      "[0.0, 0.0, 1.0, 0.0]\n",
      "[0.0, 0.0, 0.0, 1.0]\n"
     ]
    }
   ],
   "source": [
    "#verifying the obtained inverse\n",
    "matrix = [[0,0,0,2],[0,0,3,0],[0,4,0,0],[5,0,0,0]]\n",
    "product = mylibrary.productMatrix(matrix, matrix_inv)\n",
    "print(\"Product of the matrix and its inverse is: \")\n",
    "mylibrary.displayMatrix(product)"
   ]
  },
  {
   "cell_type": "markdown",
   "id": "fdf8ddcc",
   "metadata": {},
   "source": [
    "Question 3"
   ]
  },
  {
   "cell_type": "code",
   "execution_count": 8,
   "id": "44e951ed",
   "metadata": {},
   "outputs": [
    {
     "name": "stdout",
     "output_type": "stream",
     "text": [
      "Obtaining solution of system of linear equations using LU decomposition:\n",
      "x_1 = 3.000000000000001\n",
      "x_2 = 4.0\n",
      "x_3 = -6.0\n",
      "x_4 = -1.0\n"
     ]
    }
   ],
   "source": [
    "A = [[3,-7,-2,2],[-3,5,1,0],[6,-4,0,-5],[-9,5,-5,12]]\n",
    "b = [-9,5,7,11]\n",
    "\n",
    "crout_result = mylibrary.solveLU(A,b,1)\n",
    "print(\"Obtaining solution of system of linear equations using LU decomposition:\")\n",
    "#Name: Ratul Das\n",
    "#Roll number: 1911128\n",
    "print(\"x_1 = \" + str(crout_result[0]))\n",
    "print(\"x_2 = \" + str(crout_result[1]))\n",
    "print(\"x_3 = \" + str(crout_result[2]))\n",
    "print(\"x_4 = \" + str(crout_result[3]))"
   ]
  },
  {
   "cell_type": "code",
   "execution_count": 9,
   "id": "d81d559d",
   "metadata": {},
   "outputs": [
    {
     "name": "stdout",
     "output_type": "stream",
     "text": [
      "Checking the result obtained:\n",
      "[-8.999999999999996, 4.9999999999999964, 7.000000000000007, 10.999999999999993]\n"
     ]
    }
   ],
   "source": [
    "#verifying the solution obtained from LU decomp\n",
    "b_verify = []\n",
    "for i in range(len(crout_result)):\n",
    "    row_sum = 0\n",
    "    for j in range(len(A[i])):             #fetching row corresponding to each equation\n",
    "        row_sum += A[i][j]*crout_result[j] #obtaining LHS of each equation from obtained solution\n",
    "    b_verify.append(row_sum)               #numeric LHS value found using obtained solution\n",
    "#Name - Ratul Das\n",
    "#Roll number - 1911128\n",
    "print(\"Checking the result obtained:\")\n",
    "print(b_verify) #the result obtained is correct if b matches b_verify"
   ]
  },
  {
   "cell_type": "markdown",
   "id": "c0cd8d1a",
   "metadata": {},
   "source": [
    "Question 4"
   ]
  },
  {
   "cell_type": "code",
   "execution_count": 10,
   "id": "7e4024cd",
   "metadata": {},
   "outputs": [],
   "source": [
    "#function given: log(x/2)-sin(5x/2)\n",
    "f1 = lambda x: 4*math.exp(-x)*math.sin(x) - 1\n",
    "\n",
    "#setting precision value to the order of -4\n",
    "prec = 10**(-5)\n",
    "\n",
    "#Name: Ratul Das\n",
    "\n",
    "#initial guess interval\n",
    "lower_lim = 0  \n",
    "upper_lim = 1\n",
    "\n",
    "#Roll number: 1911128\n",
    "\n",
    "#trying the method for an interval that doesn't contain the root\n",
    "r,i,fxi,err = mylibrary.bisection(f1, lower_lim, upper_lim, prec)"
   ]
  },
  {
   "cell_type": "code",
   "execution_count": 11,
   "id": "9b561965",
   "metadata": {},
   "outputs": [
    {
     "name": "stdout",
     "output_type": "stream",
     "text": [
      "Table for convergence (i vs |b-a|):\n",
      "# of iterations (i)      Absolute Error (|b-a|)\n",
      "\n",
      "         1               1\n",
      "         2               0.5\n",
      "         3               0.25\n",
      "         4               0.125\n",
      "         5               0.0625\n",
      "         6               0.03125\n",
      "         7               0.015625\n",
      "         8               0.0078125\n",
      "         9               0.00390625\n",
      "         10               0.001953125\n",
      "         11               0.0009765625\n",
      "         12               0.00048828125\n",
      "         13               0.000244140625\n",
      "         14               0.0001220703125\n",
      "         15               6.103515625e-05\n",
      "    -> Root obtained: 0.370574951171875\n"
     ]
    }
   ],
   "source": [
    "print(\"Table for convergence (i vs |b-a|):\")\n",
    "mylibrary.showConvergenceTable(i,err)\n",
    "print(f\"    -> Root obtained: {r}\")"
   ]
  },
  {
   "cell_type": "code",
   "execution_count": 12,
   "id": "09856798",
   "metadata": {},
   "outputs": [
    {
     "data": {
      "image/png": "[encoded data removed]",
      "text/plain": [
       "<Figure size 432x288 with 1 Axes>"
      ]
     },
     "metadata": {
      "needs_background": "light"
     },
     "output_type": "display_data"
    }
   ],
   "source": [
    "#displaying the convergence plot\n",
    "plt.plot(i,fxi,'o-', color = 'r')\n",
    "plt.xlabel(\"i (number of iterations)\")\n",
    "plt.ylabel(\"$f(x_i)$ (value of function)\")\n",
    "plt.title(\"Convergence Plot ($f(x_i)$ vs $i$)\")\n",
    "plt.show()"
   ]
  },
  {
   "cell_type": "code",
   "execution_count": 13,
   "id": "a3942486",
   "metadata": {},
   "outputs": [
    {
     "name": "stdout",
     "output_type": "stream",
     "text": [
      "Table for convergence (i vs |d-c|:\n",
      "# of iterations (i)      Absolute Error (|b-a|)\n",
      "\n",
      "         1               0.8075982052665829\n",
      "         2               0.18104871698208935\n",
      "         3               0.12669555640648167\n",
      "         4               0.07005839543179049\n",
      "         5               0.03347011363022212\n",
      "         6               0.014828125953253557\n",
      "         7               0.00634439185570318\n",
      "         8               0.0026736011012746252\n",
      "         9               0.0011194368010403744\n",
      "         10               0.0004674384555318212\n",
      "         11               0.00019496498208243507\n",
      "         12               8.127990099721094e-05\n",
      "         13               3.3878484256899544e-05\n",
      "         14               1.4119815860413887e-05\n",
      "         15               5.884630474739527e-06\n",
      "\n",
      "    -> Root obtained: 0.370562300835524\n"
     ]
    }
   ],
   "source": [
    "#now, checking result using Regula-Falsi\n",
    "r2,i2,fxi2,err2 = mylibrary.regulafalsi(f1,lower_lim,upper_lim,prec)\n",
    "\n",
    "#Name - Ratul Das\n",
    "#Roll number - 1911128\n",
    "\n",
    "#producing the respective table for convergence\n",
    "print(\"Table for convergence (i vs |d-c|:\")\n",
    "mylibrary.showConvergenceTable(i2,err2)\n",
    "print()\n",
    "print(f\"    -> Root obtained: {r2}\")"
   ]
  },
  {
   "cell_type": "code",
   "execution_count": 14,
   "id": "7d8488eb",
   "metadata": {},
   "outputs": [
    {
     "data": {
      "image/png": "[encoded data removed]",
      "text/plain": [
       "<Figure size 432x288 with 1 Axes>"
      ]
     },
     "metadata": {
      "needs_background": "light"
     },
     "output_type": "display_data"
    }
   ],
   "source": [
    "#displaying the convergence plot\n",
    "plt.plot(i2,fxi2,'o-', color = 'g')\n",
    "plt.xlabel(\"i (number of iterations)\")\n",
    "plt.ylabel(\"$f(x_i)$ (value of function)\")\n",
    "plt.title(\"Convergence Plot ($f(x_i)$ vs $i$)\")\n",
    "plt.show()"
   ]
  },
  {
   "cell_type": "code",
   "execution_count": 15,
   "id": "cb3424b8",
   "metadata": {},
   "outputs": [
    {
     "name": "stdout",
     "output_type": "stream",
     "text": [
      "Root in [0,1] for the given function obtained using:\n",
      "    -> Midpoint method: 0.370574951171875\n",
      "    -> Regular-Falsi method: 0.370562300835524\n"
     ]
    }
   ],
   "source": [
    "#display both roots\n",
    "print(f\"Root in [0,1] for the given function obtained using:\")\n",
    "print(f\"    -> Midpoint method: {r}\")\n",
    "print(f\"    -> Regular-Falsi method: {r2}\")"
   ]
  }
 ],
 "metadata": {
  "kernelspec": {
   "display_name": "Python 3",
   "language": "python",
   "name": "python3"
  },
  "language_info": {
   "codemirror_mode": {
    "name": "ipython",
    "version": 3
   },
   "file_extension": ".py",
   "mimetype": "text/x-python",
   "name": "python",
   "nbconvert_exporter": "python",
   "pygments_lexer": "ipython3",
   "version": "3.7.10"
  }
 },
 "nbformat": 4,
 "nbformat_minor": 5
}
